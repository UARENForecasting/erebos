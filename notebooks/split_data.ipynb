{
 "cells": [
  {
   "cell_type": "code",
   "execution_count": 1,
   "metadata": {},
   "outputs": [],
   "source": [
    "import xarray as xr\n",
    "from pathlib import Path\n",
    "import seaborn as sns\n",
    "from sklearn.model_selection import train_test_split\n",
    "from sklearn import preprocessing\n",
    "from dask.diagnostics import ProgressBar\n",
    "from sklearn.pipeline import Pipeline\n",
    "from sklearn import linear_model\n",
    "import numpy as np\n",
    "from sklearn.model_selection import cross_val_score, GridSearchCV\n",
    "import pandas as pd\n",
    "from dask.distributed import Client\n",
    "import joblib\n"
   ]
  },
  {
   "cell_type": "code",
   "execution_count": 33,
   "metadata": {},
   "outputs": [],
   "source": [
    "cdir = Path('/storage/projects/goes_alg/combined/west/daytime')"
   ]
  },
  {
   "cell_type": "code",
   "execution_count": 442,
   "metadata": {},
   "outputs": [
    {
     "name": "stdout",
     "output_type": "stream",
     "text": [
      "399\n"
     ]
    }
   ],
   "source": [
    "files = list(cdir.glob('*.nc'))\n",
    "print(len(files))\n",
    "ds = xr.open_dataset(files[0], engine='h5netcdf')"
   ]
  },
  {
   "cell_type": "code",
   "execution_count": 440,
   "metadata": {},
   "outputs": [
    {
     "data": {
      "text/plain": [
       "array(['low overcast, transparent', 'low overcast, opaque',\n",
       "       'transition, stratocumulus', 'low, broken cumulus',\n",
       "       'altocumulus (transparent)', 'altostratus (opaque)',\n",
       "       'cirrus (transparent)', 'deep convective (opaque)', 'no cloud'],\n",
       "      dtype=object)"
      ]
     },
     "execution_count": 440,
     "metadata": {},
     "output_type": "execute_result"
    }
   ],
   "source": [
    "ds.cloud_type.flag_meanings"
   ]
  },
  {
   "cell_type": "code",
   "execution_count": 88,
   "metadata": {},
   "outputs": [],
   "source": [
    "def preprocess(ds):\n",
    "    da = xr.DataArray(np.tile(np.asarray(ds.encoding['source']), ds.dims['rec']), dims=(\"rec\"))\n",
    "    return ds.assign({'source': da})"
   ]
  },
  {
   "cell_type": "markdown",
   "metadata": {},
   "source": [
    "* should completely separate day and night\n",
    "* should look at distribution of top, thickness, and number of layers to ensure pretty even\n",
    "* what about keeping day together vs totally new?"
   ]
  },
  {
   "cell_type": "code",
   "execution_count": 94,
   "metadata": {},
   "outputs": [
    {
     "name": "stdout",
     "output_type": "stream",
     "text": [
      "CPU times: user 3min 42s, sys: 25.1 s, total: 4min 8s\n",
      "Wall time: 3min 45s\n"
     ]
    }
   ],
   "source": [
    "%%time \n",
    "combo_ds = xr.open_mfdataset(cdir.glob('*.nc'), combine='nested', concat_dim='rec', engine='h5netcdf', parallel=True,\n",
    "                                   preprocess=preprocess)"
   ]
  },
  {
   "cell_type": "code",
   "execution_count": 95,
   "metadata": {},
   "outputs": [
    {
     "data": {
      "text/plain": [
       "<xarray.Dataset>\n",
       "Dimensions:              (near: 16, rec: 488367)\n",
       "Coordinates:\n",
       "    x                    (rec, near) float32 dask.array<chunksize=(1480, 16), meta=np.ndarray>\n",
       "    y                    (rec, near) float32 dask.array<chunksize=(1480, 16), meta=np.ndarray>\n",
       "Dimensions without coordinates: near, rec\n",
       "Data variables:\n",
       "    cloud_top_altitude   (rec) float32 dask.array<chunksize=(1480,), meta=np.ndarray>\n",
       "    cloud_thickness      (rec) float32 dask.array<chunksize=(1480,), meta=np.ndarray>\n",
       "    cloud_base_altitude  (rec) float32 dask.array<chunksize=(1480,), meta=np.ndarray>\n",
       "    cloud_layers         (rec) float32 dask.array<chunksize=(1480,), meta=np.ndarray>\n",
       "    solar_azimuth        (rec) float32 dask.array<chunksize=(1480,), meta=np.ndarray>\n",
       "    solar_zenith         (rec) float32 dask.array<chunksize=(1480,), meta=np.ndarray>\n",
       "    cloud_type           (rec) uint8 dask.array<chunksize=(1480,), meta=np.ndarray>\n",
       "    day_night_flag       (rec) int8 dask.array<chunksize=(1480,), meta=np.ndarray>\n",
       "    surface_elevation    (rec) float32 dask.array<chunksize=(1480,), meta=np.ndarray>\n",
       "    CMI_C01              (rec, near) float32 dask.array<chunksize=(1480, 16), meta=np.ndarray>\n",
       "    CMI_C02              (rec, near) float32 dask.array<chunksize=(1480, 16), meta=np.ndarray>\n",
       "    CMI_C03              (rec, near) float32 dask.array<chunksize=(1480, 16), meta=np.ndarray>\n",
       "    CMI_C04              (rec, near) float32 dask.array<chunksize=(1480, 16), meta=np.ndarray>\n",
       "    CMI_C05              (rec, near) float32 dask.array<chunksize=(1480, 16), meta=np.ndarray>\n",
       "    CMI_C06              (rec, near) float32 dask.array<chunksize=(1480, 16), meta=np.ndarray>\n",
       "    CMI_C07              (rec, near) float32 dask.array<chunksize=(1480, 16), meta=np.ndarray>\n",
       "    CMI_C08              (rec, near) float32 dask.array<chunksize=(1480, 16), meta=np.ndarray>\n",
       "    CMI_C09              (rec, near) float32 dask.array<chunksize=(1480, 16), meta=np.ndarray>\n",
       "    CMI_C10              (rec, near) float32 dask.array<chunksize=(1480, 16), meta=np.ndarray>\n",
       "    CMI_C11              (rec, near) float32 dask.array<chunksize=(1480, 16), meta=np.ndarray>\n",
       "    CMI_C12              (rec, near) float32 dask.array<chunksize=(1480, 16), meta=np.ndarray>\n",
       "    CMI_C13              (rec, near) float32 dask.array<chunksize=(1480, 16), meta=np.ndarray>\n",
       "    CMI_C14              (rec, near) float32 dask.array<chunksize=(1480, 16), meta=np.ndarray>\n",
       "    CMI_C15              (rec, near) float32 dask.array<chunksize=(1480, 16), meta=np.ndarray>\n",
       "    CMI_C16              (rec, near) float32 dask.array<chunksize=(1480, 16), meta=np.ndarray>\n",
       "    Rad_C01              (rec, near) float32 dask.array<chunksize=(1480, 16), meta=np.ndarray>\n",
       "    Rad_C02              (rec, near) float32 dask.array<chunksize=(1480, 16), meta=np.ndarray>\n",
       "    Rad_C03              (rec, near) float32 dask.array<chunksize=(1480, 16), meta=np.ndarray>\n",
       "    Rad_C04              (rec, near) float32 dask.array<chunksize=(1480, 16), meta=np.ndarray>\n",
       "    Rad_C05              (rec, near) float32 dask.array<chunksize=(1480, 16), meta=np.ndarray>\n",
       "    Rad_C06              (rec, near) float32 dask.array<chunksize=(1480, 16), meta=np.ndarray>\n",
       "    Rad_C07              (rec, near) float32 dask.array<chunksize=(1480, 16), meta=np.ndarray>\n",
       "    Rad_C08              (rec, near) float32 dask.array<chunksize=(1480, 16), meta=np.ndarray>\n",
       "    Rad_C09              (rec, near) float32 dask.array<chunksize=(1480, 16), meta=np.ndarray>\n",
       "    Rad_C10              (rec, near) float32 dask.array<chunksize=(1480, 16), meta=np.ndarray>\n",
       "    Rad_C11              (rec, near) float32 dask.array<chunksize=(1480, 16), meta=np.ndarray>\n",
       "    Rad_C12              (rec, near) float32 dask.array<chunksize=(1480, 16), meta=np.ndarray>\n",
       "    Rad_C13              (rec, near) float32 dask.array<chunksize=(1480, 16), meta=np.ndarray>\n",
       "    Rad_C14              (rec, near) float32 dask.array<chunksize=(1480, 16), meta=np.ndarray>\n",
       "    Rad_C15              (rec, near) float32 dask.array<chunksize=(1480, 16), meta=np.ndarray>\n",
       "    Rad_C16              (rec, near) float32 dask.array<chunksize=(1480, 16), meta=np.ndarray>\n",
       "    HT                   (rec, near) float32 dask.array<chunksize=(1480, 16), meta=np.ndarray>\n",
       "    BCM                  (rec, near) float32 dask.array<chunksize=(1480, 16), meta=np.ndarray>\n",
       "    Phase                (rec, near) float32 dask.array<chunksize=(1480, 16), meta=np.ndarray>\n",
       "    COD                  (rec, near) float32 dask.array<chunksize=(1480, 16), meta=np.ndarray>\n",
       "    source               (rec) <U76 '/storage/projects/goes_alg/combined/west/daytime/20180301T211222_combined.nc' ... '/storage/projects/goes_alg/combined/west/daytime/20190531T212141_combined.nc'\n",
       "Attributes:\n",
       "    goes_time:        2018-03-01T21:13:41.476789952\n",
       "    goes_file:        /storage/projects/goes_alg/goes_data/west/combined/2018...\n",
       "    calipso_file:     /storage/projects/goes_alg/calipso/west/1km_cloud/CAL_L...\n",
       "    erebose_version:  0+untagged.22.gec9f7c3"
      ]
     },
     "execution_count": 95,
     "metadata": {},
     "output_type": "execute_result"
    }
   ],
   "source": [
    "combo_ds"
   ]
  },
  {
   "cell_type": "code",
   "execution_count": 117,
   "metadata": {},
   "outputs": [],
   "source": [
    "layers = combo_ds.cloud_layers.load()\n",
    "type_ = combo_ds.cloud_type.load()"
   ]
  },
  {
   "cell_type": "code",
   "execution_count": 124,
   "metadata": {},
   "outputs": [],
   "source": [
    "top = combo_ds.cloud_top_altitude.load()\n",
    "thickness = combo_ds.cloud_thickness.load()\n"
   ]
  },
  {
   "cell_type": "code",
   "execution_count": 125,
   "metadata": {},
   "outputs": [
    {
     "data": {
      "text/plain": [
       "(array([3.1680e+03, 4.2360e+03, 1.6530e+03, 2.3830e+03, 1.9580e+03,\n",
       "        3.0490e+03, 4.4480e+03, 6.0800e+03, 7.7520e+03, 1.0128e+04,\n",
       "        9.7750e+03, 9.4980e+03, 8.8840e+03, 7.5390e+03, 7.3780e+03,\n",
       "        6.8980e+03, 6.8660e+03, 6.6350e+03, 7.4240e+03, 6.9550e+03,\n",
       "        6.9620e+03, 4.8830e+03, 7.2950e+03, 7.7870e+03, 8.6670e+03,\n",
       "        1.0809e+04, 1.1074e+04, 1.2809e+04, 1.2373e+04, 1.2939e+04,\n",
       "        1.1513e+04, 9.5300e+03, 8.1650e+03, 3.8390e+03, 2.2500e+03,\n",
       "        1.9760e+03, 1.0670e+03, 3.2100e+02, 2.1500e+02, 1.4100e+02,\n",
       "        7.3000e+01, 4.6000e+01, 3.0000e+01, 1.0000e+00, 3.0000e+00,\n",
       "        2.0000e+00, 0.0000e+00, 1.0000e+00, 0.0000e+00, 0.0000e+00,\n",
       "        1.0000e+00]),\n",
       " array([ 0.11263654,  0.49508187,  0.8775272 ,  1.2599725 ,  1.6424178 ,\n",
       "         2.0248632 ,  2.4073083 ,  2.7897537 ,  3.172199  ,  3.5546443 ,\n",
       "         3.9370897 ,  4.3195353 ,  4.70198   ,  5.0844254 ,  5.466871  ,\n",
       "         5.849316  ,  6.2317615 ,  6.614207  ,  6.996652  ,  7.3790975 ,\n",
       "         7.761543  ,  8.143989  ,  8.526434  ,  8.908879  ,  9.291325  ,\n",
       "         9.673769  , 10.056214  , 10.43866   , 10.821105  , 11.20355   ,\n",
       "        11.585996  , 11.968441  , 12.350886  , 12.733332  , 13.115777  ,\n",
       "        13.498222  , 13.880668  , 14.263113  , 14.645558  , 15.028004  ,\n",
       "        15.410449  , 15.792894  , 16.17534   , 16.557785  , 16.940231  ,\n",
       "        17.322676  , 17.705122  , 18.087566  , 18.470013  , 18.852457  ,\n",
       "        19.234903  , 19.617348  ], dtype=float32),\n",
       " <a list of 51 Patch objects>)"
      ]
     },
     "execution_count": 125,
     "metadata": {},
     "output_type": "execute_result"
    },
    {
     "data": {
      "image/png": "[encoded data removed]",
      "text/plain": [
       "<Figure size 432x288 with 1 Axes>"
      ]
     },
     "metadata": {
      "needs_background": "light"
     },
     "output_type": "display_data"
    }
   ],
   "source": [
    "top.plot.hist(bins=51)"
   ]
  },
  {
   "cell_type": "code",
   "execution_count": 126,
   "metadata": {},
   "outputs": [
    {
     "data": {
      "text/plain": [
       "(array([1.2951e+04, 3.1044e+04, 4.1066e+04, 2.6615e+04, 2.1836e+04,\n",
       "        1.6887e+04, 1.6633e+04, 1.2507e+04, 1.3250e+04, 9.9260e+03,\n",
       "        9.7030e+03, 7.0380e+03, 7.1400e+03, 5.0450e+03, 5.1670e+03,\n",
       "        3.3660e+03, 3.0750e+03, 3.1430e+03, 2.1830e+03, 2.0720e+03,\n",
       "        1.4000e+03, 1.3940e+03, 1.0210e+03, 7.8300e+02, 5.6300e+02,\n",
       "        4.8400e+02, 3.2800e+02, 2.8300e+02, 1.6000e+02, 1.6600e+02,\n",
       "        8.0000e+01, 4.8000e+01, 4.6000e+01, 3.5000e+01, 1.8000e+01,\n",
       "        7.0000e+00, 4.0000e+00, 5.0000e+00, 4.0000e+00, 3.0000e+00]),\n",
       " array([0.05987549, 0.20769516, 0.35551482, 0.5033345 , 0.65115416,\n",
       "        0.79897386, 0.94679356, 1.0946132 , 1.2424328 , 1.3902526 ,\n",
       "        1.5380722 , 1.6858919 , 1.8337116 , 1.9815313 , 2.129351  ,\n",
       "        2.2771707 , 2.4249902 , 2.57281   , 2.7206297 , 2.8684492 ,\n",
       "        3.016269  , 3.1640887 , 3.3119082 , 3.459728  , 3.6075478 ,\n",
       "        3.7553673 , 3.903187  , 4.051007  , 4.1988263 , 4.346646  ,\n",
       "        4.494466  , 4.6422853 , 4.790105  , 4.937925  , 5.0857444 ,\n",
       "        5.233564  , 5.381384  , 5.5292034 , 5.677023  , 5.824843  ,\n",
       "        5.9726624 ], dtype=float32),\n",
       " <a list of 40 Patch objects>)"
      ]
     },
     "execution_count": 126,
     "metadata": {},
     "output_type": "execute_result"
    },
    {
     "data": {
      "image/png": "[encoded data removed]",
      "text/plain": [
       "<Figure size 432x288 with 1 Axes>"
      ]
     },
     "metadata": {
      "needs_background": "light"
     },
     "output_type": "display_data"
    }
   ],
   "source": [
    "thickness.plot.hist(bins=40)"
   ]
  },
  {
   "cell_type": "code",
   "execution_count": 127,
   "metadata": {},
   "outputs": [
    {
     "data": {
      "text/plain": [
       "(array([2.31172e+05, 2.20391e+05, 3.50660e+04, 1.68900e+03, 4.60000e+01,\n",
       "        2.00000e+00, 1.00000e+00, 0.00000e+00, 0.00000e+00, 0.00000e+00]),\n",
       " array([ 0.,  1.,  2.,  3.,  4.,  5.,  6.,  7.,  8.,  9., 10.],\n",
       "       dtype=float32),\n",
       " <a list of 10 Patch objects>)"
      ]
     },
     "execution_count": 127,
     "metadata": {},
     "output_type": "execute_result"
    },
    {
     "data": {
      "image/png": "[encoded data removed]",
      "text/plain": [
       "<Figure size 432x288 with 1 Axes>"
      ]
     },
     "metadata": {
      "needs_background": "light"
     },
     "output_type": "display_data"
    }
   ],
   "source": [
    "layers.plot.hist(bins=10, range=(0, 10), align='left')"
   ]
  },
  {
   "cell_type": "code",
   "execution_count": null,
   "metadata": {},
   "outputs": [],
   "source": [
    "layers_wo_cld = combo_ds.cloud_layers[combo_ds.cloud_type == 8].compute()"
   ]
  },
  {
   "cell_type": "code",
   "execution_count": 119,
   "metadata": {},
   "outputs": [
    {
     "data": {
      "text/plain": [
       "<xarray.DataArray 'cloud_layers' ()>\n",
       "array(230888)"
      ]
     },
     "execution_count": 119,
     "metadata": {},
     "output_type": "execute_result"
    }
   ],
   "source": [
    "layers[layers == 0].count()"
   ]
  },
  {
   "cell_type": "code",
   "execution_count": 122,
   "metadata": {},
   "outputs": [
    {
     "data": {
      "text/plain": [
       "<xarray.DataArray 'cloud_type' (rec: 53)>\n",
       "array([8, 8, 8, 8, 8, 8, 8, 8, 8, 8, 8, 8, 8, 8, 8, 8, 8, 8, 8, 8, 8, 8,\n",
       "       8, 8, 8, 8, 8, 8, 8, 8, 8, 8, 8, 8, 8, 8, 8, 8, 8, 8, 8, 8, 8, 8,\n",
       "       8, 8, 8, 8, 8, 8, 8, 8, 8], dtype=uint8)\n",
       "Dimensions without coordinates: rec\n",
       "Attributes:\n",
       "    flag_values:    [0 1 2 3 4 5 6 7 8]\n",
       "    flag_meanings:  ['low overcast, transparent' 'low overcast, opaque'\\n 'tr..."
      ]
     },
     "execution_count": 122,
     "metadata": {},
     "output_type": "execute_result"
    }
   ],
   "source": [
    "type_[(type_ == 8) & (layers != 0)]"
   ]
  },
  {
   "cell_type": "code",
   "execution_count": 114,
   "metadata": {},
   "outputs": [
    {
     "data": {
      "text/plain": [
       "(array([   804.,   6883.,  13764.,   6963.,  36898.,  35860.,  98320.,\n",
       "         57934., 230941.]),\n",
       " array([0., 1., 2., 3., 4., 5., 6., 7., 8., 9.]),\n",
       " <a list of 9 Patch objects>)"
      ]
     },
     "execution_count": 114,
     "metadata": {},
     "output_type": "execute_result"
    },
    {
     "data": {
      "image/png": "[encoded data removed]",
      "text/plain": [
       "<Figure size 432x288 with 1 Axes>"
      ]
     },
     "metadata": {
      "needs_background": "light"
     },
     "output_type": "display_data"
    }
   ],
   "source": [
    "type_.plot.hist(bins=9, range=(0, 9), align='left')"
   ]
  },
  {
   "cell_type": "code",
   "execution_count": 101,
   "metadata": {},
   "outputs": [
    {
     "data": {
      "text/plain": [
       "(array([29523., 39650., 44021., 41237., 35090., 29787., 25557., 23704.,\n",
       "        22461., 20016., 19509., 19833., 20781., 24262., 24419., 20893.,\n",
       "        17758., 14295., 10368.,  5203.]),\n",
       " array([19.46462 , 22.199055, 24.933489, 27.667923, 30.402355, 33.13679 ,\n",
       "        35.871223, 38.605656, 41.34009 , 44.074524, 46.80896 , 49.543392,\n",
       "        52.27783 , 55.01226 , 57.746693, 60.48113 , 63.21556 , 65.95    ,\n",
       "        68.68443 , 71.41886 , 74.1533  ], dtype=float32),\n",
       " <a list of 20 Patch objects>)"
      ]
     },
     "execution_count": 101,
     "metadata": {},
     "output_type": "execute_result"
    },
    {
     "data": {
      "image/png": "[encoded data removed]",
      "text/plain": [
       "<Figure size 432x288 with 1 Axes>"
      ]
     },
     "metadata": {
      "needs_background": "light"
     },
     "output_type": "display_data"
    }
   ],
   "source": [
    "combo_ds.solar_zenith.plot.hist(bins=20)"
   ]
  },
  {
   "cell_type": "code",
   "execution_count": 131,
   "metadata": {},
   "outputs": [
    {
     "data": {
      "text/plain": [
       "array(['low overcast, transparent', 'low overcast, opaque',\n",
       "       'transition, stratocumulus', 'low, broken cumulus',\n",
       "       'altocumulus (transparent)', 'altostratus (opaque)',\n",
       "       'cirrus (transparent)', 'deep convective (opaque)', 'no cloud'],\n",
       "      dtype=object)"
      ]
     },
     "execution_count": 131,
     "metadata": {},
     "output_type": "execute_result"
    }
   ],
   "source": [
    "type_.flag_meanings"
   ]
  },
  {
   "cell_type": "code",
   "execution_count": 132,
   "metadata": {},
   "outputs": [],
   "source": [
    "files = combo_ds.source.load()"
   ]
  },
  {
   "cell_type": "code",
   "execution_count": 151,
   "metadata": {},
   "outputs": [],
   "source": [
    "from collections import defaultdict\n",
    "counts = defaultdict(dict)\n",
    "for f in np.unique(files):\n",
    "    for i, meaning in enumerate(type_.flag_meanings):\n",
    "        counts[f.item()][meaning] = ((files == f) & (type_ == i)).sum().item()"
   ]
  },
  {
   "cell_type": "code",
   "execution_count": 155,
   "metadata": {},
   "outputs": [],
   "source": [
    "import pandas as pd\n",
    "cdf = pd.DataFrame(counts).T"
   ]
  },
  {
   "cell_type": "code",
   "execution_count": 213,
   "metadata": {},
   "outputs": [],
   "source": [
    "from sklearn.model_selection import train_test_split\n",
    "train, alltest = train_test_split(cdf.index, train_size=0.7, )#stratify=cdf['low overcast, transparent'] > 0)"
   ]
  },
  {
   "cell_type": "code",
   "execution_count": 214,
   "metadata": {},
   "outputs": [
    {
     "data": {
      "text/plain": [
       "low overcast, transparent      2.072464\n",
       "low overcast, opaque          15.967391\n",
       "transition, stratocumulus     33.815217\n",
       "low, broken cumulus           18.760870\n",
       "altocumulus (transparent)     93.373188\n",
       "altostratus (opaque)          92.989130\n",
       "cirrus (transparent)         242.438406\n",
       "deep convective (opaque)     135.891304\n",
       "no cloud                     585.757246\n",
       "dtype: float64"
      ]
     },
     "execution_count": 214,
     "metadata": {},
     "output_type": "execute_result"
    }
   ],
   "source": [
    "cdf.loc[train].mean()"
   ]
  },
  {
   "cell_type": "code",
   "execution_count": 215,
   "metadata": {},
   "outputs": [
    {
     "data": {
      "text/plain": [
       "low overcast, transparent      1.949580\n",
       "low overcast, opaque          20.806723\n",
       "transition, stratocumulus     37.235294\n",
       "low, broken cumulus           15.000000\n",
       "altocumulus (transparent)     93.504202\n",
       "altostratus (opaque)          85.672269\n",
       "cirrus (transparent)         263.924370\n",
       "deep convective (opaque)     171.663866\n",
       "no cloud                     582.117647\n",
       "dtype: float64"
      ]
     },
     "execution_count": 215,
     "metadata": {},
     "output_type": "execute_result"
    }
   ],
   "source": [
    "cdf.loc[alltest].mean() "
   ]
  },
  {
   "cell_type": "code",
   "execution_count": 389,
   "metadata": {},
   "outputs": [],
   "source": [
    "val, test = train_test_split(alltest, train_size=0.5)"
   ]
  },
  {
   "cell_type": "code",
   "execution_count": 390,
   "metadata": {},
   "outputs": [
    {
     "data": {
      "text/plain": [
       "low overcast, transparent      1.966102\n",
       "low overcast, opaque          20.355932\n",
       "transition, stratocumulus     32.101695\n",
       "low, broken cumulus           15.983051\n",
       "altocumulus (transparent)     93.898305\n",
       "altostratus (opaque)          90.338983\n",
       "cirrus (transparent)         293.491525\n",
       "deep convective (opaque)     191.661017\n",
       "no cloud                     575.966102\n",
       "dtype: float64"
      ]
     },
     "execution_count": 390,
     "metadata": {},
     "output_type": "execute_result"
    }
   ],
   "source": [
    "cdf.loc[val].mean()"
   ]
  },
  {
   "cell_type": "code",
   "execution_count": 391,
   "metadata": {},
   "outputs": [
    {
     "data": {
      "text/plain": [
       "low overcast, transparent      1.933333\n",
       "low overcast, opaque          21.250000\n",
       "transition, stratocumulus     42.283333\n",
       "low, broken cumulus           14.033333\n",
       "altocumulus (transparent)     93.116667\n",
       "altostratus (opaque)          81.083333\n",
       "cirrus (transparent)         234.850000\n",
       "deep convective (opaque)     152.000000\n",
       "no cloud                     588.166667\n",
       "dtype: float64"
      ]
     },
     "execution_count": 391,
     "metadata": {},
     "output_type": "execute_result"
    }
   ],
   "source": [
    "cdf.loc[test].mean()"
   ]
  },
  {
   "cell_type": "code",
   "execution_count": 405,
   "metadata": {},
   "outputs": [
    {
     "data": {
      "text/plain": [
       "Index(['/storage/projects/goes_alg/combined/west/daytime/20180630T210720_combined.nc',\n",
       "       '/storage/projects/goes_alg/combined/west/daytime/20180704T204222_combined.nc',\n",
       "       '/storage/projects/goes_alg/combined/west/daytime/20180410T202222_combined.nc',\n",
       "       '/storage/projects/goes_alg/combined/west/daytime/20190212T202213_combined.nc',\n",
       "       '/storage/projects/goes_alg/combined/west/daytime/20180619T212224_combined.nc',\n",
       "       '/storage/projects/goes_alg/combined/west/daytime/20180629T202219_combined.nc',\n",
       "       '/storage/projects/goes_alg/combined/west/daytime/20180330T204219_combined.nc',\n",
       "       '/storage/projects/goes_alg/combined/west/daytime/20180715T202226_combined.nc',\n",
       "       '/storage/projects/goes_alg/combined/west/daytime/20181027T205219_combined.nc',\n",
       "       '/storage/projects/goes_alg/combined/west/daytime/20190102T203718_combined.nc',\n",
       "       ...\n",
       "       '/storage/projects/goes_alg/combined/west/daytime/20190410T202117_combined.nc',\n",
       "       '/storage/projects/goes_alg/combined/west/daytime/20181108T201718_combined.nc',\n",
       "       '/storage/projects/goes_alg/combined/west/daytime/20180428T201220_combined.nc',\n",
       "       '/storage/projects/goes_alg/combined/west/daytime/20180611T203220_combined.nc',\n",
       "       '/storage/projects/goes_alg/combined/west/daytime/20190210T204213_combined.nc',\n",
       "       '/storage/projects/goes_alg/combined/west/daytime/20190125T202716_combined.nc',\n",
       "       '/storage/projects/goes_alg/combined/west/daytime/20181211T212717_combined.nc',\n",
       "       '/storage/projects/goes_alg/combined/west/daytime/20190302T201713_combined.nc',\n",
       "       '/storage/projects/goes_alg/combined/west/daytime/20181026T201719_combined.nc',\n",
       "       '/storage/projects/goes_alg/combined/west/daytime/20181006T204220_combined.nc'],\n",
       "      dtype='object', length=276)"
      ]
     },
     "execution_count": 405,
     "metadata": {},
     "output_type": "execute_result"
    }
   ],
   "source": [
    "cdf.loc[train].index"
   ]
  },
  {
   "cell_type": "code",
   "execution_count": 420,
   "metadata": {},
   "outputs": [],
   "source": [
    "train_recs = np.zeros(shape=files.shape)\n",
    "for f in train:\n",
    "    train_recs = np.logical_or(train_recs, files == f)"
   ]
  },
  {
   "cell_type": "code",
   "execution_count": 425,
   "metadata": {},
   "outputs": [],
   "source": [
    "test_recs = np.zeros(shape=files.shape)\n",
    "for f in test:\n",
    "    test_recs = np.logical_or(test_recs, files == f)"
   ]
  },
  {
   "cell_type": "code",
   "execution_count": 426,
   "metadata": {},
   "outputs": [],
   "source": [
    "val_recs = np.zeros(shape=files.shape)\n",
    "for f in val:\n",
    "    val_recs = np.logical_or(val_recs, files == f)"
   ]
  },
  {
   "cell_type": "code",
   "execution_count": 452,
   "metadata": {},
   "outputs": [
    {
     "ename": "FileExistsError",
     "evalue": "[Errno 17] File exists: '/storage/projects/goes_alg/combined/west/daytime/20180301T211222_combined.nc' -> '/storage/projects/goes_alg/combined/west/daytime/train/20180301T211222_combined.nc'",
     "output_type": "error",
     "traceback": [
      "\u001b[0;31m---------------------------------------------------------------------------\u001b[0m",
      "\u001b[0;31mFileExistsError\u001b[0m                           Traceback (most recent call last)",
      "\u001b[0;32m<ipython-input-452-117d0e8e06bf>\u001b[0m in \u001b[0;36m<module>\u001b[0;34m\u001b[0m\n\u001b[1;32m      1\u001b[0m \u001b[0;32mfor\u001b[0m \u001b[0mf\u001b[0m \u001b[0;32min\u001b[0m \u001b[0mtrain\u001b[0m\u001b[0;34m:\u001b[0m\u001b[0;34m\u001b[0m\u001b[0;34m\u001b[0m\u001b[0m\n\u001b[1;32m      2\u001b[0m     \u001b[0mp\u001b[0m \u001b[0;34m=\u001b[0m \u001b[0mPath\u001b[0m\u001b[0;34m(\u001b[0m\u001b[0mf\u001b[0m\u001b[0;34m)\u001b[0m\u001b[0;34m\u001b[0m\u001b[0;34m\u001b[0m\u001b[0m\n\u001b[0;32m----> 3\u001b[0;31m     \u001b[0;34m(\u001b[0m\u001b[0mp\u001b[0m\u001b[0;34m.\u001b[0m\u001b[0mparent\u001b[0m \u001b[0;34m/\u001b[0m \u001b[0;34m'train'\u001b[0m \u001b[0;34m/\u001b[0m \u001b[0mp\u001b[0m\u001b[0;34m.\u001b[0m\u001b[0mname\u001b[0m\u001b[0;34m)\u001b[0m\u001b[0;34m.\u001b[0m\u001b[0msymlink_to\u001b[0m\u001b[0;34m(\u001b[0m\u001b[0mp\u001b[0m\u001b[0;34m)\u001b[0m\u001b[0;34m\u001b[0m\u001b[0;34m\u001b[0m\u001b[0m\n\u001b[0m",
      "\u001b[0;32m~/.pyenv/versions/miniconda3/envs/goesalg/lib/python3.7/pathlib.py\u001b[0m in \u001b[0;36msymlink_to\u001b[0;34m(self, target, target_is_directory)\u001b[0m\n\u001b[1;32m   1328\u001b[0m         \u001b[0;32mif\u001b[0m \u001b[0mself\u001b[0m\u001b[0;34m.\u001b[0m\u001b[0m_closed\u001b[0m\u001b[0;34m:\u001b[0m\u001b[0;34m\u001b[0m\u001b[0;34m\u001b[0m\u001b[0m\n\u001b[1;32m   1329\u001b[0m             \u001b[0mself\u001b[0m\u001b[0;34m.\u001b[0m\u001b[0m_raise_closed\u001b[0m\u001b[0;34m(\u001b[0m\u001b[0;34m)\u001b[0m\u001b[0;34m\u001b[0m\u001b[0;34m\u001b[0m\u001b[0m\n\u001b[0;32m-> 1330\u001b[0;31m         \u001b[0mself\u001b[0m\u001b[0;34m.\u001b[0m\u001b[0m_accessor\u001b[0m\u001b[0;34m.\u001b[0m\u001b[0msymlink\u001b[0m\u001b[0;34m(\u001b[0m\u001b[0mtarget\u001b[0m\u001b[0;34m,\u001b[0m \u001b[0mself\u001b[0m\u001b[0;34m,\u001b[0m \u001b[0mtarget_is_directory\u001b[0m\u001b[0;34m)\u001b[0m\u001b[0;34m\u001b[0m\u001b[0;34m\u001b[0m\u001b[0m\n\u001b[0m\u001b[1;32m   1331\u001b[0m \u001b[0;34m\u001b[0m\u001b[0m\n\u001b[1;32m   1332\u001b[0m     \u001b[0;31m# Convenience functions for querying the stat results\u001b[0m\u001b[0;34m\u001b[0m\u001b[0;34m\u001b[0m\u001b[0;34m\u001b[0m\u001b[0m\n",
      "\u001b[0;32m~/.pyenv/versions/miniconda3/envs/goesalg/lib/python3.7/pathlib.py\u001b[0m in \u001b[0;36msymlink\u001b[0;34m(a, b, target_is_directory)\u001b[0m\n\u001b[1;32m    428\u001b[0m         \u001b[0;34m@\u001b[0m\u001b[0mstaticmethod\u001b[0m\u001b[0;34m\u001b[0m\u001b[0;34m\u001b[0m\u001b[0m\n\u001b[1;32m    429\u001b[0m         \u001b[0;32mdef\u001b[0m \u001b[0msymlink\u001b[0m\u001b[0;34m(\u001b[0m\u001b[0ma\u001b[0m\u001b[0;34m,\u001b[0m \u001b[0mb\u001b[0m\u001b[0;34m,\u001b[0m \u001b[0mtarget_is_directory\u001b[0m\u001b[0;34m)\u001b[0m\u001b[0;34m:\u001b[0m\u001b[0;34m\u001b[0m\u001b[0;34m\u001b[0m\u001b[0m\n\u001b[0;32m--> 430\u001b[0;31m             \u001b[0;32mreturn\u001b[0m \u001b[0mos\u001b[0m\u001b[0;34m.\u001b[0m\u001b[0msymlink\u001b[0m\u001b[0;34m(\u001b[0m\u001b[0ma\u001b[0m\u001b[0;34m,\u001b[0m \u001b[0mb\u001b[0m\u001b[0;34m)\u001b[0m\u001b[0;34m\u001b[0m\u001b[0;34m\u001b[0m\u001b[0m\n\u001b[0m\u001b[1;32m    431\u001b[0m \u001b[0;34m\u001b[0m\u001b[0m\n\u001b[1;32m    432\u001b[0m     \u001b[0mutime\u001b[0m \u001b[0;34m=\u001b[0m \u001b[0mos\u001b[0m\u001b[0;34m.\u001b[0m\u001b[0mutime\u001b[0m\u001b[0;34m\u001b[0m\u001b[0;34m\u001b[0m\u001b[0m\n",
      "\u001b[0;31mFileExistsError\u001b[0m: [Errno 17] File exists: '/storage/projects/goes_alg/combined/west/daytime/20180301T211222_combined.nc' -> '/storage/projects/goes_alg/combined/west/daytime/train/20180301T211222_combined.nc'"
     ]
    }
   ],
   "source": [
    "for f in train:\n",
    "    p = Path(f)\n",
    "    (p.parent / 'train' / p.name).symlink_to(p)"
   ]
  },
  {
   "cell_type": "code",
   "execution_count": null,
   "metadata": {},
   "outputs": [],
   "source": [
    "for f in test:\n",
    "    p = Path(f)\n",
    "    (p.parent / 'test' / p.name).symlink_to(p)"
   ]
  },
  {
   "cell_type": "code",
   "execution_count": null,
   "metadata": {},
   "outputs": [],
   "source": [
    "for f in val:\n",
    "    p = Path(f)\n",
    "    (p.parent / 'validate' / p.name).symlink_to(p)"
   ]
  },
  {
   "cell_type": "code",
   "execution_count": 428,
   "metadata": {},
   "outputs": [
    {
     "data": {
      "text/plain": [
       "(<xarray.DataArray 'source' ()>\n",
       " array(337014), <xarray.DataArray 'source' ()>\n",
       " array(77630), <xarray.DataArray 'source' ()>\n",
       " array(73723))"
      ]
     },
     "execution_count": 428,
     "metadata": {},
     "output_type": "execute_result"
    }
   ],
   "source": [
    "train_recs.sum(), val_recs.sum(), test_recs.sum()"
   ]
  },
  {
   "cell_type": "code",
   "execution_count": 431,
   "metadata": {},
   "outputs": [],
   "source": [
    "train_ds = combo_ds.sel(rec=train_recs)"
   ]
  },
  {
   "cell_type": "code",
   "execution_count": 434,
   "metadata": {},
   "outputs": [
    {
     "data": {
      "text/plain": [
       "True"
      ]
     },
     "execution_count": 434,
     "metadata": {},
     "output_type": "execute_result"
    }
   ],
   "source": [
    "np.unique(train_ds.source).sort() == train.values.sort()"
   ]
  },
  {
   "cell_type": "code",
   "execution_count": 444,
   "metadata": {},
   "outputs": [
    {
     "name": "stderr",
     "output_type": "stream",
     "text": [
      "/home/alorenzo/.pyenv/versions/miniconda3/envs/goesalg/lib/python3.7/site-packages/h5netcdf/core.py:481: H5pyDeprecationWarning: other_ds.dims.create_scale(ds, name) is deprecated. Use ds.make_scale(name) instead.\n",
      "  h5ds.dims.create_scale(h5ds, scale_name)\n"
     ]
    }
   ],
   "source": [
    "train_ds.to_netcdf(cdir / 'train_set.nc', engine='h5netcdf') "
   ]
  },
  {
   "cell_type": "code",
   "execution_count": null,
   "metadata": {},
   "outputs": [],
   "source": []
  },
  {
   "cell_type": "code",
   "execution_count": 448,
   "metadata": {},
   "outputs": [
    {
     "data": {
      "text/plain": [
       "True"
      ]
     },
     "execution_count": 448,
     "metadata": {},
     "output_type": "execute_result"
    }
   ],
   "source": [
    "test_ds = combo_ds.sel(rec=test_recs)\n",
    "assert np.unique(test_ds.source).sort() == test.values.sort()"
   ]
  },
  {
   "cell_type": "code",
   "execution_count": 449,
   "metadata": {},
   "outputs": [
    {
     "data": {
      "text/plain": [
       "True"
      ]
     },
     "execution_count": 449,
     "metadata": {},
     "output_type": "execute_result"
    }
   ],
   "source": [
    "val_ds = combo_ds.sel(rec=val_recs)\n",
    "assert np.unique(val_ds.source).sort() == val.values.sort()"
   ]
  },
  {
   "cell_type": "code",
   "execution_count": 450,
   "metadata": {},
   "outputs": [
    {
     "name": "stderr",
     "output_type": "stream",
     "text": [
      "/home/alorenzo/.pyenv/versions/miniconda3/envs/goesalg/lib/python3.7/site-packages/h5netcdf/core.py:481: H5pyDeprecationWarning: other_ds.dims.create_scale(ds, name) is deprecated. Use ds.make_scale(name) instead.\n",
      "  h5ds.dims.create_scale(h5ds, scale_name)\n"
     ]
    }
   ],
   "source": [
    "test_ds.to_netcdf(cdir / 'test_set.nc', engine='h5netcdf')"
   ]
  },
  {
   "cell_type": "code",
   "execution_count": 451,
   "metadata": {},
   "outputs": [
    {
     "name": "stderr",
     "output_type": "stream",
     "text": [
      "/home/alorenzo/.pyenv/versions/miniconda3/envs/goesalg/lib/python3.7/site-packages/h5netcdf/core.py:481: H5pyDeprecationWarning: other_ds.dims.create_scale(ds, name) is deprecated. Use ds.make_scale(name) instead.\n",
      "  h5ds.dims.create_scale(h5ds, scale_name)\n"
     ]
    }
   ],
   "source": [
    "val_ds.to_netcdf(cdir / 'validate_set.nc', engine='h5netcdf')"
   ]
  },
  {
   "cell_type": "code",
   "execution_count": null,
   "metadata": {},
   "outputs": [],
   "source": []
  }
 ],
 "metadata": {
  "kernelspec": {
   "display_name": "Python 3",
   "language": "python",
   "name": "python3"
  },
  "language_info": {
   "codemirror_mode": {
    "name": "ipython",
    "version": 3
   },
   "file_extension": ".py",
   "mimetype": "text/x-python",
   "name": "python",
   "nbconvert_exporter": "python",
   "pygments_lexer": "ipython3",
   "version": "3.7.3"
  }
 },
 "nbformat": 4,
 "nbformat_minor": 4
}
