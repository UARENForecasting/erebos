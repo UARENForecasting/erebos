{
 "cells": [
  {
   "cell_type": "code",
   "execution_count": 1,
   "metadata": {},
   "outputs": [
    {
     "name": "stderr",
     "output_type": "stream",
     "text": [
      "/home/alorenzo/.pyenv/versions/miniconda3/envs/goesalg/lib/python3.7/site-packages/sklearn/utils/deprecation.py:144: FutureWarning: The sklearn.metrics.classification module is  deprecated in version 0.22 and will be removed in version 0.24. The corresponding classes / functions should instead be imported from sklearn.metrics. Anything that cannot be imported from sklearn.metrics is now part of the private API.\n",
      "  warnings.warn(message, FutureWarning)\n"
     ]
    }
   ],
   "source": [
    "import xarray as xr\n",
    "from pathlib import Path\n",
    "import seaborn as sns\n",
    "from sklearn import preprocessing\n",
    "from sklearn.base import RegressorMixin, BaseEstimator\n",
    "from sklearn.pipeline import Pipeline\n",
    "from sklearn import linear_model, svm, ensemble, neural_network, decomposition\n",
    "import numpy as np\n",
    "import pandas as pd\n",
    "\n",
    "import matplotlib.pyplot as plt\n",
    "from yellowbrick.regressor import residuals_plot, prediction_error\n",
    "\n",
    "from lightgbm import LGBMRegressor, plot_importance, plot_split_value_histogram"
   ]
  },
  {
   "cell_type": "code",
   "execution_count": 2,
   "metadata": {},
   "outputs": [],
   "source": [
    "train_ds = xr.open_dataset('train_set.nc', engine='h5netcdf')\n",
    "val_ds = xr.open_dataset('validate_set.nc', engine='h5netcdf')"
   ]
  },
  {
   "cell_type": "code",
   "execution_count": 3,
   "metadata": {},
   "outputs": [],
   "source": [
    "yvar = 'cloud_top_altitude'"
   ]
  },
  {
   "cell_type": "code",
   "execution_count": 4,
   "metadata": {},
   "outputs": [],
   "source": [
    "import pickle\n",
    "with open('cloud_mask.pkl', 'rb') as f:\n",
    "    mask_model = pickle.load(f)\n",
    "with open('cloud_type_mask.pkl', 'rb') as f:\n",
    "    type_model = pickle.load(f)\n",
    "    "
   ]
  },
  {
   "cell_type": "code",
   "execution_count": 5,
   "metadata": {},
   "outputs": [],
   "source": [
    "def classify(arr, only=None):\n",
    "    # 0 = no, 1 = low, 2 = mid, 3 = high, 4 = deep, \n",
    "    narr = np.zeros(arr.shape, dtype=int)\n",
    "    narr[arr == 8] = 0\n",
    "    narr[arr < 4] = 1\n",
    "    narr[(arr == 4) | (arr == 5)] = 2\n",
    "    narr[arr == 6] = 3\n",
    "    narr[arr == 7] = 4\n",
    "    if only is not None:\n",
    "        out = np.zeros(narr.shape, dtype=int)\n",
    "        out[narr == only] = 1\n",
    "        return out\n",
    "    else:\n",
    "        return narr"
   ]
  },
  {
   "cell_type": "code",
   "execution_count": 6,
   "metadata": {},
   "outputs": [],
   "source": [
    "def process_ds(ds, real_cloudy=True):\n",
    "    vars_ = [f'CMI_C{c:02d}' for c in range(1, 17)] \n",
    "    if not real_cloudy:\n",
    "        vars_ += ['cloud_type']\n",
    "    df = ds[vars_].isel(near=0).to_dataframe()\n",
    "    df = df.drop(columns=[c for c in df.columns if c not in vars_])\n",
    "    nans = df.isna().any(axis=1) \n",
    "    if not real_cloudy:\n",
    "        df['cloud_type'] = classify(df['cloud_type']).astype(float)\n",
    "    else:\n",
    "        cloud_type = type_model.predict(df[~nans].values)\n",
    "        df['cloud_type'] = pd.Series(cloud_type, index=df.index[~nans], dtype=float)\n",
    "    X = df[~nans]\n",
    "    y = ds[yvar].values[X.index]\n",
    "    # y is nan when no cloud\n",
    "    ynan = np.isnan(y)\n",
    "    y[ynan] = 0\n",
    "    return X, y"
   ]
  },
  {
   "cell_type": "code",
   "execution_count": 28,
   "metadata": {},
   "outputs": [
    {
     "data": {
      "text/plain": [
       "((341267, 17), (341267,))"
      ]
     },
     "execution_count": 28,
     "metadata": {},
     "output_type": "execute_result"
    }
   ],
   "source": [
    "X, y = process_ds(train_ds)\n",
    "X.shape, y.shape"
   ]
  },
  {
   "cell_type": "code",
   "execution_count": 29,
   "metadata": {},
   "outputs": [
    {
     "data": {
      "text/plain": [
       "((76693, 17), (76693,))"
      ]
     },
     "execution_count": 29,
     "metadata": {},
     "output_type": "execute_result"
    }
   ],
   "source": [
    "X_val, y_val = process_ds(val_ds)\n",
    "X_val.shape, y_val.shape"
   ]
  },
  {
   "cell_type": "code",
   "execution_count": 30,
   "metadata": {},
   "outputs": [
    {
     "data": {
      "text/plain": [
       "((76693, 17), (76693,))"
      ]
     },
     "execution_count": 30,
     "metadata": {},
     "output_type": "execute_result"
    }
   ],
   "source": [
    "X_val_cld, y_val_cld = process_ds(val_ds, False)\n",
    "X_val_cld.shape, y_val_cld.shape"
   ]
  },
  {
   "cell_type": "code",
   "execution_count": null,
   "metadata": {},
   "outputs": [],
   "source": [
    "reg = neural_network.MLPRegressor(\n",
    "    verbose=False, activation='relu', alpha=1e-4, hidden_layer_sizes=(50,),\n",
    "    tol=1e-4, solver='adam')\n",
    "model = Pipeline([\n",
    "    ('scaler', preprocessing.RobustScaler()),\n",
    "    ('pca', decomposition.PCA(whiten=True)),\n",
    "    ('reg', reg)\n",
    "])\n",
    "\n",
    "%time model.fit(X.values, y)"
   ]
  },
  {
   "cell_type": "code",
   "execution_count": null,
   "metadata": {},
   "outputs": [],
   "source": [
    "%%time\n",
    "model.score(X, y), model.score(X_val, y_val), model.score(X_val_cld, y_val_cld)"
   ]
  },
  {
   "cell_type": "code",
   "execution_count": null,
   "metadata": {},
   "outputs": [],
   "source": [
    "prediction_error(model, X, y, alpha=0.01)"
   ]
  },
  {
   "cell_type": "code",
   "execution_count": null,
   "metadata": {},
   "outputs": [],
   "source": [
    "prediction_error(model, X_val, y_val, is_fitted=True, alpha=0.01)"
   ]
  },
  {
   "cell_type": "code",
   "execution_count": null,
   "metadata": {
    "scrolled": false
   },
   "outputs": [],
   "source": [
    "prediction_error(model, X_val_cld, y_val_cld, is_fitted=True, alpha=0.01)"
   ]
  },
  {
   "cell_type": "markdown",
   "metadata": {},
   "source": [
    "Comparison of X_val with X_val_cld (using trained cloud mask vs calipso cloud mask) seems to indicate that the trained cloud mask has little effect in the current model"
   ]
  },
  {
   "cell_type": "code",
   "execution_count": null,
   "metadata": {},
   "outputs": [],
   "source": [
    "%matplotlib inline\n",
    "residuals_plot(model, X, y, test_size=1e-3, train_alpha=0.1)"
   ]
  },
  {
   "cell_type": "code",
   "execution_count": null,
   "metadata": {},
   "outputs": [],
   "source": [
    "%matplotlib inline\n",
    "residuals_plot(model, X_val, y_val, is_fitted=True, test_size=1e-3, train_alpha=0.05)"
   ]
  },
  {
   "cell_type": "code",
   "execution_count": null,
   "metadata": {},
   "outputs": [],
   "source": []
  },
  {
   "cell_type": "code",
   "execution_count": null,
   "metadata": {},
   "outputs": [],
   "source": []
  }
 ],
 "metadata": {
  "kernelspec": {
   "display_name": "Python 3",
   "language": "python",
   "name": "python3"
  },
  "language_info": {
   "codemirror_mode": {
    "name": "ipython",
    "version": 3
   },
   "file_extension": ".py",
   "mimetype": "text/x-python",
   "name": "python",
   "nbconvert_exporter": "python",
   "pygments_lexer": "ipython3",
   "version": "3.7.3"
  }
 },
 "nbformat": 4,
 "nbformat_minor": 4
}
