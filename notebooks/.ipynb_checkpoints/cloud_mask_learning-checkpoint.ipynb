{
 "cells": [
  {
   "cell_type": "code",
   "execution_count": 1,
   "metadata": {},
   "outputs": [
    {
     "name": "stderr",
     "output_type": "stream",
     "text": [
      "/home/alorenzo/.pyenv/versions/miniconda3/envs/goesalg/lib/python3.7/site-packages/sklearn/utils/deprecation.py:144: FutureWarning: The sklearn.metrics.classification module is  deprecated in version 0.22 and will be removed in version 0.24. The corresponding classes / functions should instead be imported from sklearn.metrics. Anything that cannot be imported from sklearn.metrics is now part of the private API.\n",
      "  warnings.warn(message, FutureWarning)\n"
     ]
    }
   ],
   "source": [
    "import xarray as xr\n",
    "from pathlib import Path\n",
    "import seaborn as sns\n",
    "from sklearn import preprocessing\n",
    "from sklearn.base import ClassifierMixin, BaseEstimator\n",
    "from sklearn.pipeline import Pipeline\n",
    "from sklearn import linear_model, svm, neighbors, decomposition\n",
    "from sklearn.metrics import plot_confusion_matrix\n",
    "import numpy as np\n",
    "import pandas as pd\n",
    "from pvlib import irradiance\n",
    "\n",
    "import matplotlib.pyplot as plt\n",
    "from yellowbrick.classifier import class_prediction_error, classification_report, confusion_matrix"
   ]
  },
  {
   "cell_type": "code",
   "execution_count": 2,
   "metadata": {},
   "outputs": [],
   "source": [
    "train_ds = xr.open_dataset('train_set.nc', engine='h5netcdf')"
   ]
  },
  {
   "cell_type": "code",
   "execution_count": 3,
   "metadata": {},
   "outputs": [],
   "source": [
    "calipso_mask = (train_ds.cloud_layers != 0).astype(int).values"
   ]
  },
  {
   "cell_type": "code",
   "execution_count": 4,
   "metadata": {},
   "outputs": [],
   "source": [
    "et = irradiance.get_extra_radiation(pd.DatetimeIndex(train_ds.t.data)).values\n",
    "icor = (et * np.cos(np.radians(train_ds.solar_zenith))).data"
   ]
  },
  {
   "cell_type": "code",
   "execution_count": 5,
   "metadata": {},
   "outputs": [
    {
     "name": "stdout",
     "output_type": "stream",
     "text": [
      "CPU times: user 627 ms, sys: 19.8 ms, total: 646 ms\n",
      "Wall time: 646 ms\n"
     ]
    }
   ],
   "source": [
    "vars_ = [v for v in train_ds.variables.keys() if 'CMI_C' in v] #+ ['solar_zenith', 'solar_azimuth', 'surface_elevation']\n",
    "#vars_ = ['CMI_C02', 'CMI_C04', 'CMI_C05']\n",
    "nears = list(range(4))\n",
    "%time df = train_ds[vars_].isel(near=0).to_dataframe()\n",
    "df = df.drop(columns=[c for c in df.columns if c not in vars_])\n",
    "df[[f'CMI_C0{v}' for v in (1, 2, 3, 5, 6, 7)]] = df[[f'CMI_C0{v}' for v in (1, 2, 3, 5, 6, 7)]].div(icor, axis=0)"
   ]
  },
  {
   "cell_type": "code",
   "execution_count": 6,
   "metadata": {},
   "outputs": [
    {
     "data": {
      "text/plain": [
       "((341267, 16), (341267,))"
      ]
     },
     "execution_count": 6,
     "metadata": {},
     "output_type": "execute_result"
    }
   ],
   "source": [
    "X = df.dropna(axis=0, how='any')\n",
    "y = calipso_mask[X.index]\n",
    "X.shape, y.shape"
   ]
  },
  {
   "cell_type": "code",
   "execution_count": 7,
   "metadata": {},
   "outputs": [
    {
     "data": {
      "text/plain": [
       "((76693, 16), (76693,))"
      ]
     },
     "execution_count": 7,
     "metadata": {},
     "output_type": "execute_result"
    }
   ],
   "source": [
    "val_ds = xr.open_dataset('validate_set.nc', engine='h5netcdf')\n",
    "#limit = (val_ds.cloud_type == 8) | (val_ds.cloud_type == 3)\n",
    "vet = irradiance.get_extra_radiation(pd.DatetimeIndex(val_ds.t.data)).values\n",
    "vcor = vet * np.cos(np.radians(val_ds.solar_zenith)).data\n",
    "val_df = val_ds.sel(near=0)[vars_].to_dataframe()\n",
    "\n",
    "val_df = val_df.drop(columns=[c for c in val_df.columns if c not in vars_])\n",
    "val_df[[f'CMI_C0{v}' for v in (1, 2, 3, 5, 6, 7)]] = val_df[[f'CMI_C0{v}' for v in (1, 2, 3, 5, 6, 7)]].div(vcor, axis=0)\n",
    "val_nans = val_df.isna().any(axis=1)\n",
    "X_val = val_df.dropna(axis=0, how='any')\n",
    "y_val = (val_ds.cloud_layers != 0).values[X_val.index].astype(int)\n",
    "X_val.shape, y_val.shape"
   ]
  },
  {
   "cell_type": "code",
   "execution_count": 8,
   "metadata": {},
   "outputs": [],
   "source": [
    "from sklearn.ensemble import RandomForestClassifier, GradientBoostingClassifier\n",
    "from sklearn.neural_network import MLPClassifier\n",
    "from sklearn.naive_bayes import GaussianNB"
   ]
  },
  {
   "cell_type": "code",
   "execution_count": 9,
   "metadata": {},
   "outputs": [],
   "source": [
    "from lightgbm import LGBMClassifier, plot_importance, plot_split_value_histogram"
   ]
  },
  {
   "cell_type": "code",
   "execution_count": 10,
   "metadata": {},
   "outputs": [
    {
     "name": "stdout",
     "output_type": "stream",
     "text": [
      "CPU times: user 1min 12s, sys: 1.36 s, total: 1min 13s\n",
      "Wall time: 1min 13s\n"
     ]
    },
    {
     "data": {
      "text/plain": [
       "Pipeline(memory=None,\n",
       "         steps=[('scale',\n",
       "                 RobustScaler(copy=True, quantile_range=(25.0, 75.0),\n",
       "                              with_centering=True, with_scaling=True)),\n",
       "                ('pca',\n",
       "                 PCA(copy=True, iterated_power='auto', n_components=None,\n",
       "                     random_state=None, svd_solver='auto', tol=0.0,\n",
       "                     whiten=True)),\n",
       "                ('clf',\n",
       "                 MLPClassifier(activation='relu', alpha=0.0001,\n",
       "                               batch_size='auto', beta_1=0.9, beta_2=0.999,\n",
       "                               early_stopping=False, epsilon=1e-08,\n",
       "                               hidden_layer_sizes=(30, 20),\n",
       "                               learning_rate='adaptive',\n",
       "                               learning_rate_init=0.001, max_fun=15000,\n",
       "                               max_iter=500, momentum=0.9, n_iter_no_change=10,\n",
       "                               nesterovs_momentum=True, power_t=0.5,\n",
       "                               random_state=None, shuffle=True, solver='adam',\n",
       "                               tol=0.0001, validation_fraction=0.1,\n",
       "                               verbose=False, warm_start=False))],\n",
       "         verbose=False)"
      ]
     },
     "execution_count": 10,
     "metadata": {},
     "output_type": "execute_result"
    }
   ],
   "source": [
    "clf = MLPClassifier(solver='adam', activation='relu', learning_rate='adaptive', alpha=1e-4, \n",
    "                    hidden_layer_sizes=(30, 20), max_iter=500, verbose=False)\n",
    "\n",
    "model = Pipeline([\n",
    "    ('scale', preprocessing.RobustScaler()),\n",
    "    ('pca', decomposition.PCA(whiten=True)),\n",
    "    ('clf', clf)\n",
    "])\n",
    "%time model.fit(X.values, y)"
   ]
  },
  {
   "cell_type": "code",
   "execution_count": 11,
   "metadata": {},
   "outputs": [
    {
     "data": {
      "text/plain": [
       "(0.889256798928698, 0.8827924321646043)"
      ]
     },
     "execution_count": 11,
     "metadata": {},
     "output_type": "execute_result"
    }
   ],
   "source": [
    "model.score(X, y), model.score(X_val, y_val)"
   ]
  },
  {
   "cell_type": "code",
   "execution_count": 27,
   "metadata": {},
   "outputs": [
    {
     "name": "stdout",
     "output_type": "stream",
     "text": [
      "low overcast, transparent FN: 1      TP: 121   TPR: 0.992\n",
      "low overcast, opaque      FN: 8      TP: 1071  TPR: 0.993\n",
      "transition, stratocumulus FN: 190    TP: 1737  TPR: 0.901\n",
      "low, broken cumulus       FN: 475    TP: 509   TPR: 0.517\n",
      "altocumulus (transparent) FN: 1465   TP: 3604  TPR: 0.711\n",
      "altostratus (opaque)      FN: 275    TP: 4662  TPR: 0.944\n",
      "cirrus (transparent)      FN: 1792   TP: 14662 TPR: 0.891\n",
      "deep convective (opaque)  FN: 33     TP: 9556  TPR: 0.997\n"
     ]
    }
   ],
   "source": [
    "def cloud_detection_by_type(type_):\n",
    "    limit = (val_ds.cloud_type == type_) | (val_ds.cloud_type == 8)\n",
    "    X_val = val_df[limit.data].dropna(axis=0, how='any')\n",
    "    y_val = (val_ds.cloud_layers != 0).values[X_val.index].astype(int)\n",
    "\n",
    "    pred = model.predict(X_val)\n",
    "    fn = pred[(y_val == 1) & (pred == 0)].shape[0]\n",
    "    fp = pred[(y_val == 0) & (pred == 1)].shape[0]\n",
    "    tn = pred[(y_val == 0) & (pred == 0)].shape[0]\n",
    "    tp = pred[((y_val == 1) & (pred == 1))].shape[0]\n",
    "    tpr = tp / (tp + fn)\n",
    "    tnr = tn / (tn + fp)\n",
    "    flag = val_ds.cloud_type.flag_meanings[type_]\n",
    "    print(f'{flag:25s} FN: {str(fn):5s}  TP: {str(tp):5s} TPR: {tpr:0.3f}')\n",
    "\n",
    "for i in range(8):\n",
    "    cloud_detection_by_type(i)"
   ]
  },
  {
   "cell_type": "code",
   "execution_count": 13,
   "metadata": {},
   "outputs": [
    {
     "name": "stderr",
     "output_type": "stream",
     "text": [
      "/home/alorenzo/.pyenv/versions/miniconda3/envs/goesalg/lib/python3.7/site-packages/sklearn/base.py:197: FutureWarning: From version 0.24, get_params will raise an AttributeError if a parameter cannot be retrieved as an instance attribute. Previously it would return None.\n",
      "  FutureWarning)\n"
     ]
    },
    {
     "name": "stdout",
     "output_type": "stream",
     "text": [
      "CPU times: user 859 ms, sys: 680 ms, total: 1.54 s\n",
      "Wall time: 251 ms\n"
     ]
    },
    {
     "name": "stderr",
     "output_type": "stream",
     "text": [
      "/home/alorenzo/.pyenv/versions/miniconda3/envs/goesalg/lib/python3.7/site-packages/sklearn/base.py:197: FutureWarning: From version 0.24, get_params will raise an AttributeError if a parameter cannot be retrieved as an instance attribute. Previously it would return None.\n",
      "  FutureWarning)\n"
     ]
    },
    {
     "data": {
      "text/plain": [
       "ClassificationReport(ax=<matplotlib.axes._subplots.AxesSubplot object at 0x7f4242ba5ba8>,\n",
       "                     classes=None,\n",
       "                     cmap=<matplotlib.colors.ListedColormap object at 0x7f42426163c8>,\n",
       "                     encoder=None, force_model=False, is_fitted='auto',\n",
       "                     model=None, support=None)"
      ]
     },
     "execution_count": 13,
     "metadata": {},
     "output_type": "execute_result"
    },
    {
     "data": {
      "image/png": "[encoded data removed]",
      "text/plain": [
       "<Figure size 432x288 with 2 Axes>"
      ]
     },
     "metadata": {
      "needs_background": "light"
     },
     "output_type": "display_data"
    }
   ],
   "source": [
    "%matplotlib inline\n",
    "%time classification_report(model, X, y)"
   ]
  },
  {
   "cell_type": "code",
   "execution_count": 14,
   "metadata": {},
   "outputs": [
    {
     "name": "stdout",
     "output_type": "stream",
     "text": [
      "CPU times: user 341 ms, sys: 309 ms, total: 650 ms\n",
      "Wall time: 124 ms\n"
     ]
    },
    {
     "name": "stderr",
     "output_type": "stream",
     "text": [
      "/home/alorenzo/.pyenv/versions/miniconda3/envs/goesalg/lib/python3.7/site-packages/sklearn/base.py:197: FutureWarning: From version 0.24, get_params will raise an AttributeError if a parameter cannot be retrieved as an instance attribute. Previously it would return None.\n",
      "  FutureWarning)\n"
     ]
    },
    {
     "data": {
      "text/plain": [
       "ClassificationReport(ax=<matplotlib.axes._subplots.AxesSubplot object at 0x7f42425c9cc0>,\n",
       "                     classes=None,\n",
       "                     cmap=<matplotlib.colors.ListedColormap object at 0x7f4242578208>,\n",
       "                     encoder=None, force_model=False, is_fitted='auto',\n",
       "                     model=None, support=None)"
      ]
     },
     "execution_count": 14,
     "metadata": {},
     "output_type": "execute_result"
    },
    {
     "data": {
      "image/png": "[encoded data removed]",
      "text/plain": [
       "<Figure size 432x288 with 2 Axes>"
      ]
     },
     "metadata": {
      "needs_background": "light"
     },
     "output_type": "display_data"
    }
   ],
   "source": [
    "%matplotlib inline\n",
    "%time classification_report(model, X_val, y_val)"
   ]
  },
  {
   "cell_type": "code",
   "execution_count": 15,
   "metadata": {},
   "outputs": [
    {
     "data": {
      "image/png": "[encoded data removed]",
      "text/plain": [
       "<Figure size 432x288 with 1 Axes>"
      ]
     },
     "metadata": {
      "needs_background": "light"
     },
     "output_type": "display_data"
    }
   ],
   "source": [
    "%matplotlib inline\n",
    "cm = confusion_matrix(model, X_val, y_val, encoder={0: 'Clear', 1: 'Cloudy'}, percent=True, is_fitted=True)"
   ]
  },
  {
   "cell_type": "code",
   "execution_count": 16,
   "metadata": {},
   "outputs": [
    {
     "data": {
      "image/png": "[encoded data removed]",
      "text/plain": [
       "<Figure size 432x288 with 2 Axes>"
      ]
     },
     "metadata": {
      "needs_background": "light"
     },
     "output_type": "display_data"
    }
   ],
   "source": [
    "disp = plot_confusion_matrix(model, X_val, y_val,\n",
    "                             display_labels=['Clear', 'Cloudy'],\n",
    "                             cmap=plt.cm.Blues,\n",
    "                             normalize='all')\n",
    "disp.ax_.grid(False)"
   ]
  },
  {
   "cell_type": "code",
   "execution_count": 16,
   "metadata": {},
   "outputs": [],
   "source": [
    "import pickle\n",
    "with open('cloud_mask.pkl', 'wb') as f:\n",
    "    pickle.dump(model, f)"
   ]
  },
  {
   "cell_type": "code",
   "execution_count": 17,
   "metadata": {},
   "outputs": [],
   "source": [
    "y_goes_alg = val_ds.BCM.isel(near=0).data[~val_nans].astype(int)\n",
    "class GOESBCM(BaseEstimator, ClassifierMixin):\n",
    "    name = 'fake'\n",
    "    def predict(self, X):\n",
    "        out = np.take(y_goes_alg, X[:, 0]).astype(int)\n",
    "        out[out < 0] = 0\n",
    "        return out\n",
    "    \n",
    "Xt = np.tile(np.arange(X_val.shape[0])[:, None], X_val.shape[1])"
   ]
  },
  {
   "cell_type": "code",
   "execution_count": 18,
   "metadata": {},
   "outputs": [
    {
     "name": "stderr",
     "output_type": "stream",
     "text": [
      "/home/alorenzo/.pyenv/versions/miniconda3/envs/goesalg/lib/python3.7/site-packages/sklearn/base.py:197: FutureWarning: From version 0.24, get_params will raise an AttributeError if a parameter cannot be retrieved as an instance attribute. Previously it would return None.\n",
      "  FutureWarning)\n"
     ]
    },
    {
     "data": {
      "image/png": "[encoded data removed]",
      "text/plain": [
       "<Figure size 432x288 with 1 Axes>"
      ]
     },
     "metadata": {
      "needs_background": "light"
     },
     "output_type": "display_data"
    }
   ],
   "source": [
    "\n",
    "cm = confusion_matrix(GOESBCM(), Xt, y_val, is_fitted=True, percent=True)"
   ]
  },
  {
   "cell_type": "code",
   "execution_count": 19,
   "metadata": {},
   "outputs": [
    {
     "data": {
      "image/png": "[encoded data removed]",
      "text/plain": [
       "<Figure size 432x288 with 2 Axes>"
      ]
     },
     "metadata": {
      "needs_background": "light"
     },
     "output_type": "display_data"
    }
   ],
   "source": [
    "disp = plot_confusion_matrix(GOESBCM(), Xt, y_val,\n",
    "                             display_labels=['Clear', 'Cloudy'],\n",
    "                             cmap=plt.cm.Blues,\n",
    "                             normalize='all')\n",
    "disp.ax_.grid(False)"
   ]
  }
 ],
 "metadata": {
  "kernelspec": {
   "display_name": "Python 3",
   "language": "python",
   "name": "python3"
  },
  "language_info": {
   "codemirror_mode": {
    "name": "ipython",
    "version": 3
   },
   "file_extension": ".py",
   "mimetype": "text/x-python",
   "name": "python",
   "nbconvert_exporter": "python",
   "pygments_lexer": "ipython3",
   "version": "3.7.3"
  }
 },
 "nbformat": 4,
 "nbformat_minor": 4
}
