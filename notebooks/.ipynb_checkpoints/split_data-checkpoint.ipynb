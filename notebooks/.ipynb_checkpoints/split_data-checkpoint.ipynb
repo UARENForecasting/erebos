{
 "cells": [
  {
   "cell_type": "code",
   "execution_count": 1,
   "metadata": {},
   "outputs": [],
   "source": [
    "import xarray as xr\n",
    "from pathlib import Path\n",
    "import seaborn as sns\n",
    "from sklearn.model_selection import train_test_split\n",
    "from sklearn import preprocessing\n",
    "from dask.diagnostics import ProgressBar\n",
    "from sklearn.pipeline import Pipeline\n",
    "from sklearn import linear_model\n",
    "import numpy as np\n",
    "from sklearn.model_selection import cross_val_score, GridSearchCV\n",
    "import pandas as pd\n",
    "from dask.distributed import Client\n",
    "import joblib\n"
   ]
  },
  {
   "cell_type": "code",
   "execution_count": 2,
   "metadata": {},
   "outputs": [],
   "source": [
    "cdir = Path('/storage/projects/goes_alg/combined/west/daytime')"
   ]
  },
  {
   "cell_type": "code",
   "execution_count": 3,
   "metadata": {},
   "outputs": [
    {
     "name": "stdout",
     "output_type": "stream",
     "text": [
      "398\n"
     ]
    }
   ],
   "source": [
    "files = list(cdir.glob('*.nc'))\n",
    "print(len(files))\n",
    "ds = xr.open_dataset(files[0], engine='netcdf4')"
   ]
  },
  {
   "cell_type": "code",
   "execution_count": 4,
   "metadata": {},
   "outputs": [
    {
     "name": "stdout",
     "output_type": "stream",
     "text": [
      "['low overcast, transparent', 'low overcast, opaque', 'transition, stratocumulus', 'low, broken cumulus', 'altocumulus (transparent)', 'altostratus (opaque)', 'cirrus (transparent)', 'deep convective (opaque)', 'no cloud']\n"
     ]
    }
   ],
   "source": [
    "print(ds.cloud_type.flag_meanings)\n",
    "ds.close()"
   ]
  },
  {
   "cell_type": "code",
   "execution_count": 5,
   "metadata": {},
   "outputs": [],
   "source": [
    "def preprocess(ds):\n",
    "    da = xr.DataArray(np.tile(np.asarray(ds.encoding['source']), ds.dims['rec']), dims=(\"rec\"))\n",
    "    return ds.assign({'source': da})"
   ]
  },
  {
   "cell_type": "markdown",
   "metadata": {},
   "source": [
    "* should completely separate day and night\n",
    "* should look at distribution of top, thickness, and number of layers to ensure pretty even\n",
    "* what about keeping day together vs totally new?"
   ]
  },
  {
   "cell_type": "code",
   "execution_count": 6,
   "metadata": {},
   "outputs": [
    {
     "name": "stdout",
     "output_type": "stream",
     "text": [
      "CPU times: user 1min 35s, sys: 18 s, total: 1min 52s\n",
      "Wall time: 1min 26s\n"
     ]
    }
   ],
   "source": [
    "%%time \n",
    "combo_ds = xr.open_mfdataset(cdir.glob('*.nc'), combine='nested', concat_dim='rec', engine='netcdf4', parallel=True,\n",
    "                                   preprocess=preprocess)"
   ]
  },
  {
   "cell_type": "code",
   "execution_count": 7,
   "metadata": {},
   "outputs": [
    {
     "data": {
      "text/plain": [
       "<xarray.Dataset>\n",
       "Dimensions:                 (near: 4, rec: 488416)\n",
       "Coordinates:\n",
       "    y_image                 float32 0.08624\n",
       "    x_image                 float32 -0.03136\n",
       "    t                       (rec) datetime64[ns] 2018-03-01T21:08:41.476979968 ... 2019-05-31T21:22:59.747072\n",
       "    x                       (rec, near) float32 dask.array<chunksize=(1480, 4), meta=np.ndarray>\n",
       "    y                       (rec, near) float32 dask.array<chunksize=(1480, 4), meta=np.ndarray>\n",
       "Dimensions without coordinates: near, rec\n",
       "Data variables:\n",
       "    cloud_top_altitude      (rec) float32 dask.array<chunksize=(1480,), meta=np.ndarray>\n",
       "    cloud_thickness         (rec) float32 dask.array<chunksize=(1480,), meta=np.ndarray>\n",
       "    cloud_base_altitude     (rec) float32 dask.array<chunksize=(1480,), meta=np.ndarray>\n",
       "    cloud_layers            (rec) float32 dask.array<chunksize=(1480,), meta=np.ndarray>\n",
       "    solar_azimuth           (rec) float32 dask.array<chunksize=(1480,), meta=np.ndarray>\n",
       "    solar_zenith            (rec) float32 dask.array<chunksize=(1480,), meta=np.ndarray>\n",
       "    cloud_type              (rec) uint8 dask.array<chunksize=(1480,), meta=np.ndarray>\n",
       "    day_night_flag          (rec) int8 dask.array<chunksize=(1480,), meta=np.ndarray>\n",
       "    surface_elevation       (rec) float32 dask.array<chunksize=(1480,), meta=np.ndarray>\n",
       "    CMI_C01                 (rec, near) float32 dask.array<chunksize=(1480, 4), meta=np.ndarray>\n",
       "    CMI_C02                 (rec, near) float32 dask.array<chunksize=(1480, 4), meta=np.ndarray>\n",
       "    CMI_C03                 (rec, near) float32 dask.array<chunksize=(1480, 4), meta=np.ndarray>\n",
       "    CMI_C04                 (rec, near) float32 dask.array<chunksize=(1480, 4), meta=np.ndarray>\n",
       "    CMI_C05                 (rec, near) float32 dask.array<chunksize=(1480, 4), meta=np.ndarray>\n",
       "    CMI_C06                 (rec, near) float32 dask.array<chunksize=(1480, 4), meta=np.ndarray>\n",
       "    CMI_C07                 (rec, near) float32 dask.array<chunksize=(1480, 4), meta=np.ndarray>\n",
       "    CMI_C08                 (rec, near) float32 dask.array<chunksize=(1480, 4), meta=np.ndarray>\n",
       "    CMI_C09                 (rec, near) float32 dask.array<chunksize=(1480, 4), meta=np.ndarray>\n",
       "    CMI_C10                 (rec, near) float32 dask.array<chunksize=(1480, 4), meta=np.ndarray>\n",
       "    CMI_C11                 (rec, near) float32 dask.array<chunksize=(1480, 4), meta=np.ndarray>\n",
       "    CMI_C12                 (rec, near) float32 dask.array<chunksize=(1480, 4), meta=np.ndarray>\n",
       "    CMI_C13                 (rec, near) float32 dask.array<chunksize=(1480, 4), meta=np.ndarray>\n",
       "    CMI_C14                 (rec, near) float32 dask.array<chunksize=(1480, 4), meta=np.ndarray>\n",
       "    CMI_C15                 (rec, near) float32 dask.array<chunksize=(1480, 4), meta=np.ndarray>\n",
       "    CMI_C16                 (rec, near) float32 dask.array<chunksize=(1480, 4), meta=np.ndarray>\n",
       "    Rad_C01                 (rec, near) float32 dask.array<chunksize=(1480, 4), meta=np.ndarray>\n",
       "    Rad_C02                 (rec, near) float32 dask.array<chunksize=(1480, 4), meta=np.ndarray>\n",
       "    Rad_C03                 (rec, near) float32 dask.array<chunksize=(1480, 4), meta=np.ndarray>\n",
       "    Rad_C04                 (rec, near) float32 dask.array<chunksize=(1480, 4), meta=np.ndarray>\n",
       "    Rad_C05                 (rec, near) float32 dask.array<chunksize=(1480, 4), meta=np.ndarray>\n",
       "    Rad_C06                 (rec, near) float32 dask.array<chunksize=(1480, 4), meta=np.ndarray>\n",
       "    Rad_C07                 (rec, near) float32 dask.array<chunksize=(1480, 4), meta=np.ndarray>\n",
       "    Rad_C08                 (rec, near) float32 dask.array<chunksize=(1480, 4), meta=np.ndarray>\n",
       "    Rad_C09                 (rec, near) float32 dask.array<chunksize=(1480, 4), meta=np.ndarray>\n",
       "    Rad_C10                 (rec, near) float32 dask.array<chunksize=(1480, 4), meta=np.ndarray>\n",
       "    Rad_C11                 (rec, near) float32 dask.array<chunksize=(1480, 4), meta=np.ndarray>\n",
       "    Rad_C12                 (rec, near) float32 dask.array<chunksize=(1480, 4), meta=np.ndarray>\n",
       "    Rad_C13                 (rec, near) float32 dask.array<chunksize=(1480, 4), meta=np.ndarray>\n",
       "    Rad_C14                 (rec, near) float32 dask.array<chunksize=(1480, 4), meta=np.ndarray>\n",
       "    Rad_C15                 (rec, near) float32 dask.array<chunksize=(1480, 4), meta=np.ndarray>\n",
       "    Rad_C16                 (rec, near) float32 dask.array<chunksize=(1480, 4), meta=np.ndarray>\n",
       "    HT                      (rec, near) float32 dask.array<chunksize=(1480, 4), meta=np.ndarray>\n",
       "    BCM                     (rec, near) float32 dask.array<chunksize=(1480, 4), meta=np.ndarray>\n",
       "    Phase                   (rec, near) float32 dask.array<chunksize=(1480, 4), meta=np.ndarray>\n",
       "    COD                     (rec, near) float32 dask.array<chunksize=(1480, 4), meta=np.ndarray>\n",
       "    goes_imager_projection  (rec) int32 -2147483647 -2147483647 ... -2147483647\n",
       "    source                  (rec) <U76 '/storage/projects/goes_alg/combined/west/daytime/20180301T210722_combined.nc' ... '/storage/projects/goes_alg/combined/west/daytime/20190531T212141_combined.nc'\n",
       "Attributes:\n",
       "    goes_time:        2018-03-01T21:08:41.476979968\n",
       "    goes_file:        /storage/projects/goes_alg/goes_data/west/combined/2018...\n",
       "    calipso_file:     /storage/projects/goes_alg/calipso/west/1km_cloud/CAL_L...\n",
       "    erebose_version:  0+untagged.36.g00dc91f"
      ]
     },
     "execution_count": 7,
     "metadata": {},
     "output_type": "execute_result"
    }
   ],
   "source": [
    "combo_ds"
   ]
  },
  {
   "cell_type": "code",
   "execution_count": 8,
   "metadata": {},
   "outputs": [],
   "source": [
    "layers = combo_ds.cloud_layers.load()\n",
    "type_ = combo_ds.cloud_type.load()"
   ]
  },
  {
   "cell_type": "code",
   "execution_count": 9,
   "metadata": {},
   "outputs": [],
   "source": [
    "top = combo_ds.cloud_top_altitude.load()\n",
    "thickness = combo_ds.cloud_thickness.load()\n"
   ]
  },
  {
   "cell_type": "code",
   "execution_count": 10,
   "metadata": {},
   "outputs": [
    {
     "data": {
      "text/plain": [
       "(array([3.1690e+03, 4.2500e+03, 1.6550e+03, 2.3820e+03, 1.9540e+03,\n",
       "        3.0300e+03, 4.4570e+03, 6.0860e+03, 7.7580e+03, 1.0138e+04,\n",
       "        9.8100e+03, 9.5210e+03, 8.9280e+03, 7.5620e+03, 7.3650e+03,\n",
       "        6.8850e+03, 6.8540e+03, 6.5970e+03, 7.3690e+03, 6.9250e+03,\n",
       "        6.9430e+03, 4.8510e+03, 7.1750e+03, 7.6820e+03, 8.5930e+03,\n",
       "        1.0778e+04, 1.1044e+04, 1.2764e+04, 1.2217e+04, 1.2772e+04,\n",
       "        1.1453e+04, 9.4910e+03, 8.1200e+03, 3.8390e+03, 2.2500e+03,\n",
       "        1.9790e+03, 1.0670e+03, 3.2100e+02, 2.1500e+02, 1.4100e+02,\n",
       "        7.3000e+01, 4.6000e+01, 3.0000e+01, 1.0000e+00, 3.0000e+00,\n",
       "        2.0000e+00, 0.0000e+00, 1.0000e+00, 0.0000e+00, 0.0000e+00,\n",
       "        1.0000e+00]),\n",
       " array([ 0.11263654,  0.49508187,  0.8775272 ,  1.2599725 ,  1.6424178 ,\n",
       "         2.0248632 ,  2.4073083 ,  2.7897537 ,  3.172199  ,  3.5546443 ,\n",
       "         3.9370897 ,  4.3195353 ,  4.70198   ,  5.0844254 ,  5.466871  ,\n",
       "         5.849316  ,  6.2317615 ,  6.614207  ,  6.996652  ,  7.3790975 ,\n",
       "         7.761543  ,  8.143989  ,  8.526434  ,  8.908879  ,  9.291325  ,\n",
       "         9.673769  , 10.056214  , 10.43866   , 10.821105  , 11.20355   ,\n",
       "        11.585996  , 11.968441  , 12.350886  , 12.733332  , 13.115777  ,\n",
       "        13.498222  , 13.880668  , 14.263113  , 14.645558  , 15.028004  ,\n",
       "        15.410449  , 15.792894  , 16.17534   , 16.557785  , 16.940231  ,\n",
       "        17.322676  , 17.705122  , 18.087566  , 18.470013  , 18.852457  ,\n",
       "        19.234903  , 19.617348  ], dtype=float32),\n",
       " <a list of 51 Patch objects>)"
      ]
     },
     "execution_count": 10,
     "metadata": {},
     "output_type": "execute_result"
    },
    {
     "data": {
      "image/png": "[encoded data removed]",
      "text/plain": [
       "<Figure size 432x288 with 1 Axes>"
      ]
     },
     "metadata": {
      "needs_background": "light"
     },
     "output_type": "display_data"
    }
   ],
   "source": [
    "top.plot.hist(bins=51)"
   ]
  },
  {
   "cell_type": "code",
   "execution_count": 11,
   "metadata": {},
   "outputs": [
    {
     "data": {
      "text/plain": [
       "(array([1.2999e+04, 3.1068e+04, 4.1012e+04, 2.6530e+04, 2.1719e+04,\n",
       "        1.6807e+04, 1.6554e+04, 1.2454e+04, 1.3181e+04, 9.8330e+03,\n",
       "        9.6280e+03, 6.9700e+03, 7.0750e+03, 5.0070e+03, 5.1220e+03,\n",
       "        3.3480e+03, 3.0630e+03, 3.1220e+03, 2.1760e+03, 2.0610e+03,\n",
       "        1.3960e+03, 1.3870e+03, 1.0200e+03, 7.8100e+02, 5.6300e+02,\n",
       "        4.8400e+02, 3.2800e+02, 2.8300e+02, 1.6000e+02, 1.6600e+02,\n",
       "        8.0000e+01, 4.8000e+01, 4.6000e+01, 3.5000e+01, 1.8000e+01,\n",
       "        7.0000e+00, 4.0000e+00, 5.0000e+00, 4.0000e+00, 3.0000e+00]),\n",
       " array([0.05987549, 0.20769516, 0.35551482, 0.5033345 , 0.65115416,\n",
       "        0.79897386, 0.94679356, 1.0946132 , 1.2424328 , 1.3902526 ,\n",
       "        1.5380722 , 1.6858919 , 1.8337116 , 1.9815313 , 2.129351  ,\n",
       "        2.2771707 , 2.4249902 , 2.57281   , 2.7206297 , 2.8684492 ,\n",
       "        3.016269  , 3.1640887 , 3.3119082 , 3.459728  , 3.6075478 ,\n",
       "        3.7553673 , 3.903187  , 4.051007  , 4.1988263 , 4.346646  ,\n",
       "        4.494466  , 4.6422853 , 4.790105  , 4.937925  , 5.0857444 ,\n",
       "        5.233564  , 5.381384  , 5.5292034 , 5.677023  , 5.824843  ,\n",
       "        5.9726624 ], dtype=float32),\n",
       " <a list of 40 Patch objects>)"
      ]
     },
     "execution_count": 11,
     "metadata": {},
     "output_type": "execute_result"
    },
    {
     "data": {
      "image/png": "[encoded data removed]",
      "text/plain": [
       "<Figure size 432x288 with 1 Axes>"
      ]
     },
     "metadata": {
      "needs_background": "light"
     },
     "output_type": "display_data"
    }
   ],
   "source": [
    "thickness.plot.hist(bins=40)"
   ]
  },
  {
   "cell_type": "code",
   "execution_count": 12,
   "metadata": {},
   "outputs": [
    {
     "data": {
      "text/plain": [
       "(array([2.32154e+05, 2.19763e+05, 3.47750e+04, 1.67500e+03, 4.60000e+01,\n",
       "        2.00000e+00, 1.00000e+00, 0.00000e+00, 0.00000e+00, 0.00000e+00]),\n",
       " array([ 0.,  1.,  2.,  3.,  4.,  5.,  6.,  7.,  8.,  9., 10.],\n",
       "       dtype=float32),\n",
       " <a list of 10 Patch objects>)"
      ]
     },
     "execution_count": 12,
     "metadata": {},
     "output_type": "execute_result"
    },
    {
     "data": {
      "image/png": "[encoded data removed]",
      "text/plain": [
       "<Figure size 432x288 with 1 Axes>"
      ]
     },
     "metadata": {
      "needs_background": "light"
     },
     "output_type": "display_data"
    }
   ],
   "source": [
    "layers.plot.hist(bins=10, range=(0, 10), align='left')"
   ]
  },
  {
   "cell_type": "code",
   "execution_count": 13,
   "metadata": {},
   "outputs": [],
   "source": [
    "layers_wo_cld = combo_ds.cloud_layers[combo_ds.cloud_type == 8].compute()"
   ]
  },
  {
   "cell_type": "code",
   "execution_count": 14,
   "metadata": {},
   "outputs": [
    {
     "data": {
      "text/plain": [
       "<xarray.DataArray 'cloud_layers' ()>\n",
       "array(231869)\n",
       "Coordinates:\n",
       "    y_image  float32 0.08624\n",
       "    x_image  float32 -0.03136"
      ]
     },
     "execution_count": 14,
     "metadata": {},
     "output_type": "execute_result"
    }
   ],
   "source": [
    "layers[layers == 0].count()"
   ]
  },
  {
   "cell_type": "code",
   "execution_count": 15,
   "metadata": {},
   "outputs": [
    {
     "data": {
      "text/plain": [
       "<xarray.DataArray 'cloud_type' (rec: 53)>\n",
       "array([8, 8, 8, 8, 8, 8, 8, 8, 8, 8, 8, 8, 8, 8, 8, 8, 8, 8, 8, 8, 8, 8,\n",
       "       8, 8, 8, 8, 8, 8, 8, 8, 8, 8, 8, 8, 8, 8, 8, 8, 8, 8, 8, 8, 8, 8,\n",
       "       8, 8, 8, 8, 8, 8, 8, 8, 8], dtype=uint8)\n",
       "Coordinates:\n",
       "    y_image  float32 0.08624\n",
       "    x_image  float32 -0.03136\n",
       "    t        (rec) datetime64[ns] 2018-04-09T21:13:40.827330048 ... 2019-05-18T21:17:51.256345984\n",
       "Dimensions without coordinates: rec\n",
       "Attributes:\n",
       "    flag_values:    [0 1 2 3 4 5 6 7 8]\n",
       "    flag_meanings:  ['low overcast, transparent', 'low overcast, opaque', 'tr..."
      ]
     },
     "execution_count": 15,
     "metadata": {},
     "output_type": "execute_result"
    }
   ],
   "source": [
    "type_[(type_ == 8) & (layers != 0)]"
   ]
  },
  {
   "cell_type": "code",
   "execution_count": 16,
   "metadata": {},
   "outputs": [
    {
     "data": {
      "text/plain": [
       "(array([   804.,   6895.,  13746.,   6983.,  37005.,  35863.,  97642.,\n",
       "         57556., 231922.]),\n",
       " array([0., 1., 2., 3., 4., 5., 6., 7., 8., 9.]),\n",
       " <a list of 9 Patch objects>)"
      ]
     },
     "execution_count": 16,
     "metadata": {},
     "output_type": "execute_result"
    },
    {
     "data": {
      "image/png": "[encoded data removed]",
      "text/plain": [
       "<Figure size 432x288 with 1 Axes>"
      ]
     },
     "metadata": {
      "needs_background": "light"
     },
     "output_type": "display_data"
    }
   ],
   "source": [
    "type_.plot.hist(bins=9, range=(0, 9), align='left')"
   ]
  },
  {
   "cell_type": "code",
   "execution_count": 17,
   "metadata": {},
   "outputs": [
    {
     "data": {
      "text/plain": [
       "(array([29537., 39654., 44232., 41696., 35067., 29778., 25546., 23455.,\n",
       "        22177., 19947., 19509., 19835., 20781., 24266., 24419., 20893.,\n",
       "        17758., 14295., 10368.,  5203.]),\n",
       " array([19.46462 , 22.199055, 24.933489, 27.667923, 30.402355, 33.13679 ,\n",
       "        35.871223, 38.605656, 41.34009 , 44.074524, 46.80896 , 49.543392,\n",
       "        52.27783 , 55.01226 , 57.746693, 60.48113 , 63.21556 , 65.95    ,\n",
       "        68.68443 , 71.41886 , 74.1533  ], dtype=float32),\n",
       " <a list of 20 Patch objects>)"
      ]
     },
     "execution_count": 17,
     "metadata": {},
     "output_type": "execute_result"
    },
    {
     "data": {
      "image/png": "[encoded data removed]",
      "text/plain": [
       "<Figure size 432x288 with 1 Axes>"
      ]
     },
     "metadata": {
      "needs_background": "light"
     },
     "output_type": "display_data"
    }
   ],
   "source": [
    "combo_ds.solar_zenith.plot.hist(bins=20)"
   ]
  },
  {
   "cell_type": "code",
   "execution_count": 18,
   "metadata": {},
   "outputs": [
    {
     "data": {
      "text/plain": [
       "['low overcast, transparent',\n",
       " 'low overcast, opaque',\n",
       " 'transition, stratocumulus',\n",
       " 'low, broken cumulus',\n",
       " 'altocumulus (transparent)',\n",
       " 'altostratus (opaque)',\n",
       " 'cirrus (transparent)',\n",
       " 'deep convective (opaque)',\n",
       " 'no cloud']"
      ]
     },
     "execution_count": 18,
     "metadata": {},
     "output_type": "execute_result"
    }
   ],
   "source": [
    "type_.flag_meanings"
   ]
  },
  {
   "cell_type": "code",
   "execution_count": 19,
   "metadata": {},
   "outputs": [],
   "source": [
    "files = combo_ds.source.load()"
   ]
  },
  {
   "cell_type": "code",
   "execution_count": 20,
   "metadata": {},
   "outputs": [],
   "source": [
    "from collections import defaultdict\n",
    "counts = defaultdict(dict)\n",
    "for f in np.unique(files):\n",
    "    for i, meaning in enumerate(type_.flag_meanings):\n",
    "        counts[f.item()][meaning] = ((files == f) & (type_ == i)).sum().item()"
   ]
  },
  {
   "cell_type": "code",
   "execution_count": 21,
   "metadata": {},
   "outputs": [],
   "source": [
    "import pandas as pd\n",
    "cdf = pd.DataFrame(counts).T"
   ]
  },
  {
   "cell_type": "code",
   "execution_count": 64,
   "metadata": {},
   "outputs": [],
   "source": [
    "from sklearn.model_selection import train_test_split\n",
    "train, alltest = train_test_split(cdf.index, train_size=0.7, )#stratify=cdf['low overcast, transparent'] > 0)"
   ]
  },
  {
   "cell_type": "code",
   "execution_count": 120,
   "metadata": {},
   "outputs": [
    {
     "data": {
      "text/plain": [
       "(276, 59, 60)"
      ]
     },
     "execution_count": 120,
     "metadata": {},
     "output_type": "execute_result"
    }
   ],
   "source": [
    "train_len = int(0.7 * len(cdf.index))\n",
    "test_len = int(0.15 * len(cdf.index))\n",
    "val_len = len(cdf.index) - train_len - test_len\n",
    "train_len, test_len, val_len"
   ]
  },
  {
   "cell_type": "code",
   "execution_count": 121,
   "metadata": {},
   "outputs": [
    {
     "data": {
      "text/plain": [
       "low overcast, transparent      2.035443\n",
       "low overcast, opaque          17.455696\n",
       "transition, stratocumulus     34.800000\n",
       "low, broken cumulus           17.678481\n",
       "altocumulus (transparent)     93.683544\n",
       "altostratus (opaque)          90.792405\n",
       "cirrus (transparent)         247.194937\n",
       "deep convective (opaque)     145.711392\n",
       "no cloud                     587.144304\n",
       "dtype: float64"
      ]
     },
     "execution_count": 121,
     "metadata": {},
     "output_type": "execute_result"
    }
   ],
   "source": [
    "cdf.mean()"
   ]
  },
  {
   "cell_type": "code",
   "execution_count": 123,
   "metadata": {},
   "outputs": [],
   "source": [
    "from random import sample"
   ]
  },
  {
   "cell_type": "code",
   "execution_count": 129,
   "metadata": {},
   "outputs": [],
   "source": [
    "max_rel_diff = 1\n",
    "while max_rel_diff > 0.05:\n",
    "    train = sample(list(cdf.index), train_len)\n",
    "    max_rel_diff = (np.abs(cdf.loc[train].mean() - cdf.mean()) / cdf.mean()).max()\n"
   ]
  },
  {
   "cell_type": "code",
   "execution_count": 130,
   "metadata": {},
   "outputs": [
    {
     "data": {
      "text/plain": [
       "low overcast, transparent      2.068841\n",
       "low overcast, opaque          17.489130\n",
       "transition, stratocumulus     35.090580\n",
       "low, broken cumulus           18.097826\n",
       "altocumulus (transparent)     97.576087\n",
       "altostratus (opaque)          93.344203\n",
       "cirrus (transparent)         235.380435\n",
       "deep convective (opaque)     144.742754\n",
       "no cloud                     593.018116\n",
       "dtype: float64"
      ]
     },
     "execution_count": 130,
     "metadata": {},
     "output_type": "execute_result"
    }
   ],
   "source": [
    "cdf.loc[train].mean()"
   ]
  },
  {
   "cell_type": "code",
   "execution_count": 138,
   "metadata": {},
   "outputs": [],
   "source": [
    "max_rel_diff = 1\n",
    "while max_rel_diff > 0.12:\n",
    "    test = sample(list(set(cdf.index) - set(train)), test_len)\n",
    "    val = cdf.index.difference(cdf.loc[train].index).difference(cdf.loc[test].index)\n",
    "    max_test_diff = (np.abs(cdf.loc[test].mean() - cdf.mean()) / cdf.mean()).max()\n",
    "    max_val_diff = (np.abs(cdf.loc[val].mean() - cdf.mean()) / cdf.mean()).max()\n",
    "    max_rel_diff = max(max_test_diff, max_val_diff)"
   ]
  },
  {
   "cell_type": "code",
   "execution_count": 139,
   "metadata": {},
   "outputs": [
    {
     "data": {
      "text/plain": [
       "low overcast, transparent      1.932203\n",
       "low overcast, opaque          16.813559\n",
       "transition, stratocumulus     36.220339\n",
       "low, broken cumulus           17.067797\n",
       "altocumulus (transparent)     84.881356\n",
       "altostratus (opaque)          87.542373\n",
       "cirrus (transparent)         275.016949\n",
       "deep convective (opaque)     135.898305\n",
       "no cloud                     537.084746\n",
       "dtype: float64"
      ]
     },
     "execution_count": 139,
     "metadata": {},
     "output_type": "execute_result"
    }
   ],
   "source": [
    "cdf.loc[test].mean()"
   ]
  },
  {
   "cell_type": "code",
   "execution_count": 141,
   "metadata": {},
   "outputs": [
    {
     "data": {
      "text/plain": [
       "low overcast, transparent      1.983333\n",
       "low overcast, opaque          17.933333\n",
       "transition, stratocumulus     32.066667\n",
       "low, broken cumulus           16.350000\n",
       "altocumulus (transparent)     84.433333\n",
       "altostratus (opaque)          82.250000\n",
       "cirrus (transparent)         274.183333\n",
       "deep convective (opaque)     159.816667\n",
       "no cloud                     609.350000\n",
       "dtype: float64"
      ]
     },
     "execution_count": 141,
     "metadata": {},
     "output_type": "execute_result"
    }
   ],
   "source": [
    "cdf.loc[val].mean()"
   ]
  },
  {
   "cell_type": "code",
   "execution_count": 142,
   "metadata": {},
   "outputs": [],
   "source": [
    "train_recs = np.zeros(shape=files.shape)\n",
    "for f in train:\n",
    "    train_recs = np.logical_or(train_recs, files == f)"
   ]
  },
  {
   "cell_type": "code",
   "execution_count": 143,
   "metadata": {},
   "outputs": [],
   "source": [
    "test_recs = np.zeros(shape=files.shape)\n",
    "for f in test:\n",
    "    test_recs = np.logical_or(test_recs, files == f)"
   ]
  },
  {
   "cell_type": "code",
   "execution_count": 144,
   "metadata": {},
   "outputs": [],
   "source": [
    "val_recs = np.zeros(shape=files.shape)\n",
    "for f in val:\n",
    "    val_recs = np.logical_or(val_recs, files == f)"
   ]
  },
  {
   "cell_type": "code",
   "execution_count": 146,
   "metadata": {},
   "outputs": [],
   "source": [
    "for f in train:\n",
    "    p = Path(f)\n",
    "    (p.parent / 'train' / p.name).symlink_to(p)"
   ]
  },
  {
   "cell_type": "code",
   "execution_count": 147,
   "metadata": {},
   "outputs": [],
   "source": [
    "for f in test:\n",
    "    p = Path(f)\n",
    "    (p.parent / 'test' / p.name).symlink_to(p)"
   ]
  },
  {
   "cell_type": "code",
   "execution_count": 148,
   "metadata": {},
   "outputs": [],
   "source": [
    "for f in val:\n",
    "    p = Path(f)\n",
    "    (p.parent / 'validate' / p.name).symlink_to(p)"
   ]
  },
  {
   "cell_type": "code",
   "execution_count": 149,
   "metadata": {},
   "outputs": [
    {
     "data": {
      "text/plain": [
       "(<xarray.DataArray 'source' ()>\n",
       " array(341359)\n",
       " Coordinates:\n",
       "     y_image  float32 0.08624\n",
       "     x_image  float32 -0.03136, <xarray.DataArray 'source' ()>\n",
       " array(76702)\n",
       " Coordinates:\n",
       "     y_image  float32 0.08624\n",
       "     x_image  float32 -0.03136, <xarray.DataArray 'source' ()>\n",
       " array(70355)\n",
       " Coordinates:\n",
       "     y_image  float32 0.08624\n",
       "     x_image  float32 -0.03136)"
      ]
     },
     "execution_count": 149,
     "metadata": {},
     "output_type": "execute_result"
    }
   ],
   "source": [
    "train_recs.sum(), val_recs.sum(), test_recs.sum()"
   ]
  },
  {
   "cell_type": "code",
   "execution_count": 150,
   "metadata": {},
   "outputs": [],
   "source": [
    "train_ds = combo_ds.sel(rec=train_recs)"
   ]
  },
  {
   "cell_type": "code",
   "execution_count": 152,
   "metadata": {},
   "outputs": [
    {
     "data": {
      "text/plain": [
       "True"
      ]
     },
     "execution_count": 152,
     "metadata": {},
     "output_type": "execute_result"
    }
   ],
   "source": [
    "np.unique(train_ds.source).sort() == train.sort()"
   ]
  },
  {
   "cell_type": "code",
   "execution_count": 153,
   "metadata": {},
   "outputs": [],
   "source": [
    "train_ds.to_netcdf(cdir / 'train_set.nc', engine='netcdf4') "
   ]
  },
  {
   "cell_type": "code",
   "execution_count": null,
   "metadata": {},
   "outputs": [],
   "source": []
  },
  {
   "cell_type": "code",
   "execution_count": 154,
   "metadata": {},
   "outputs": [],
   "source": [
    "test_ds = combo_ds.sel(rec=test_recs)\n",
    "assert np.unique(test_ds.source).sort() == test.sort()"
   ]
  },
  {
   "cell_type": "code",
   "execution_count": 156,
   "metadata": {},
   "outputs": [],
   "source": [
    "val_ds = combo_ds.sel(rec=val_recs)\n",
    "assert np.unique(val_ds.source).sort() == val.values.sort()"
   ]
  },
  {
   "cell_type": "code",
   "execution_count": 159,
   "metadata": {},
   "outputs": [],
   "source": [
    "test_ds.to_netcdf(cdir / 'test_set.nc', engine='netcdf4')"
   ]
  },
  {
   "cell_type": "code",
   "execution_count": 160,
   "metadata": {},
   "outputs": [],
   "source": [
    "val_ds.to_netcdf(cdir / 'validate_set.nc', engine='netcdf4')"
   ]
  },
  {
   "cell_type": "code",
   "execution_count": null,
   "metadata": {},
   "outputs": [],
   "source": []
  }
 ],
 "metadata": {
  "kernelspec": {
   "display_name": "Python 3",
   "language": "python",
   "name": "python3"
  },
  "language_info": {
   "codemirror_mode": {
    "name": "ipython",
    "version": 3
   },
   "file_extension": ".py",
   "mimetype": "text/x-python",
   "name": "python",
   "nbconvert_exporter": "python",
   "pygments_lexer": "ipython3",
   "version": "3.7.3"
  }
 },
 "nbformat": 4,
 "nbformat_minor": 4
}
